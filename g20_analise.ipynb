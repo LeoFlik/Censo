{
 "cells": [
  {
   "cell_type": "markdown",
   "metadata": {},
   "source": [
    "# G-20 - Exercício de analise dos dados referentes ao G-20"
   ]
  },
  {
   "cell_type": "markdown",
   "metadata": {},
   "source": [
    "<img src='https://upload.wikimedia.org/wikipedia/commons/d/d7/Family_photo_G20_Italy_2021.jpg'> "
   ]
  },
  {
   "cell_type": "markdown",
   "metadata": {},
   "source": [
    "<p> O G20 ou Grupo dos 20 é um grupo formado pelos ministros de finanças e chefes dos bancos centrais das 19 maiores economias do mundo mais a União Africana e União Europeia. Foi criado em 1999, após as sucessivas crises financeiras da década de 1990.[1] Visa favorecer a negociação internacional, integrando o princípio de um diálogo ampliado, levando em conta o peso econômico crescente de alguns países, que, juntos, representam 90% do PIB mundial, 80% do comércio mundial (incluindo o comércio intra-UE) e dois terços da população mundial.</p>"
   ]
  },
  {
   "cell_type": "markdown",
   "metadata": {},
   "source": [
    "## Importando as bibliotecas"
   ]
  },
  {
   "cell_type": "code",
   "execution_count": 58,
   "metadata": {},
   "outputs": [],
   "source": [
    "import pandas as pd\n",
    "import numpy as map\n",
    "import matplotlib.pyplot as plt\n",
    "import plotly.express as plx"
   ]
  },
  {
   "cell_type": "markdown",
   "metadata": {},
   "source": [
    "### Formatando os valores Float"
   ]
  },
  {
   "cell_type": "code",
   "execution_count": 42,
   "metadata": {},
   "outputs": [],
   "source": [
    "pd.options.display.float_format = '{:,.2f}'.format"
   ]
  },
  {
   "cell_type": "markdown",
   "metadata": {},
   "source": [
    "### Obtendo os dados"
   ]
  },
  {
   "cell_type": "code",
   "execution_count": 43,
   "metadata": {},
   "outputs": [],
   "source": [
    "raw_df = pd.read_excel('g20_data.xlsx')"
   ]
  },
  {
   "cell_type": "markdown",
   "metadata": {},
   "source": [
    "### Pré visualização dos dados"
   ]
  },
  {
   "cell_type": "code",
   "execution_count": 44,
   "metadata": {},
   "outputs": [
    {
     "data": {
      "text/plain": [
       "(21, 19)"
      ]
     },
     "execution_count": 44,
     "metadata": {},
     "output_type": "execute_result"
    }
   ],
   "source": [
    "#shape\n",
    "raw_df.shape"
   ]
  },
  {
   "cell_type": "code",
   "execution_count": 45,
   "metadata": {},
   "outputs": [
    {
     "data": {
      "text/plain": [
       "Index(['Unnamed: 0', 'País', 'Trans_Bil_USD', 'PIB Nominal', 'PPP_PIB',\n",
       "       'PIB_percapta', 'PPP_percapta', 'IDH', 'População', 'Area km2', 'P5',\n",
       "       'G4', 'G7', 'BRICS', 'MIKTA', 'DAC', 'OECD', 'SCO', 'FMI_Class'],\n",
       "      dtype='object')"
      ]
     },
     "execution_count": 45,
     "metadata": {},
     "output_type": "execute_result"
    }
   ],
   "source": [
    "#columns\n",
    "\n",
    "raw_df.columns"
   ]
  },
  {
   "cell_type": "code",
   "execution_count": 46,
   "metadata": {},
   "outputs": [
    {
     "name": "stdout",
     "output_type": "stream",
     "text": [
      "<class 'pandas.core.frame.DataFrame'>\n",
      "RangeIndex: 21 entries, 0 to 20\n",
      "Data columns (total 19 columns):\n",
      " #   Column         Non-Null Count  Dtype  \n",
      "---  ------         --------------  -----  \n",
      " 0   Unnamed: 0     21 non-null     int64  \n",
      " 1   País           21 non-null     object \n",
      " 2   Trans_Bil_USD  21 non-null     object \n",
      " 3   PIB Nominal    21 non-null     int64  \n",
      " 4   PPP_PIB        21 non-null     int64  \n",
      " 5   PIB_percapta   21 non-null     int64  \n",
      " 6   PPP_percapta   21 non-null     int64  \n",
      " 7   IDH            21 non-null     float64\n",
      " 8   População      21 non-null     int64  \n",
      " 9   Area km2       21 non-null     int64  \n",
      " 10  P5             21 non-null     object \n",
      " 11  G4             21 non-null     object \n",
      " 12  G7             21 non-null     object \n",
      " 13  BRICS          21 non-null     object \n",
      " 14  MIKTA          21 non-null     object \n",
      " 15  DAC            21 non-null     object \n",
      " 16  OECD           21 non-null     object \n",
      " 17  SCO            21 non-null     object \n",
      " 18  FMI_Class      21 non-null     object \n",
      "dtypes: float64(1), int64(7), object(11)\n",
      "memory usage: 3.2+ KB\n"
     ]
    }
   ],
   "source": [
    "#info\n",
    "\n",
    "raw_df.info()"
   ]
  },
  {
   "cell_type": "code",
   "execution_count": 47,
   "metadata": {},
   "outputs": [
    {
     "data": {
      "text/plain": [
       "False"
      ]
     },
     "execution_count": 47,
     "metadata": {},
     "output_type": "execute_result"
    }
   ],
   "source": [
    "# duplicated\n",
    "\n",
    "raw_df.duplicated().values.any()"
   ]
  },
  {
   "cell_type": "code",
   "execution_count": 48,
   "metadata": {},
   "outputs": [
    {
     "data": {
      "text/html": [
       "<div>\n",
       "<style scoped>\n",
       "    .dataframe tbody tr th:only-of-type {\n",
       "        vertical-align: middle;\n",
       "    }\n",
       "\n",
       "    .dataframe tbody tr th {\n",
       "        vertical-align: top;\n",
       "    }\n",
       "\n",
       "    .dataframe thead th {\n",
       "        text-align: right;\n",
       "    }\n",
       "</style>\n",
       "<table border=\"1\" class=\"dataframe\">\n",
       "  <thead>\n",
       "    <tr style=\"text-align: right;\">\n",
       "      <th></th>\n",
       "      <th>Unnamed: 0</th>\n",
       "      <th>País</th>\n",
       "      <th>Trans_Bil_USD</th>\n",
       "      <th>PIB Nominal</th>\n",
       "      <th>PPP_PIB</th>\n",
       "      <th>PIB_percapta</th>\n",
       "      <th>PPP_percapta</th>\n",
       "      <th>IDH</th>\n",
       "      <th>População</th>\n",
       "      <th>Area km2</th>\n",
       "      <th>P5</th>\n",
       "      <th>G4</th>\n",
       "      <th>G7</th>\n",
       "      <th>BRICS</th>\n",
       "      <th>MIKTA</th>\n",
       "      <th>DAC</th>\n",
       "      <th>OECD</th>\n",
       "      <th>SCO</th>\n",
       "      <th>FMI_Class</th>\n",
       "    </tr>\n",
       "  </thead>\n",
       "  <tbody>\n",
       "    <tr>\n",
       "      <th>0</th>\n",
       "      <td>0</td>\n",
       "      <td>Argentina</td>\n",
       "      <td>170.1</td>\n",
       "      <td>621833</td>\n",
       "      <td>1239515</td>\n",
       "      <td>13297</td>\n",
       "      <td>26506</td>\n",
       "      <td>0.84</td>\n",
       "      <td>46300000</td>\n",
       "      <td>2780400</td>\n",
       "      <td>No</td>\n",
       "      <td>No</td>\n",
       "      <td>No</td>\n",
       "      <td>No</td>\n",
       "      <td>No</td>\n",
       "      <td>No</td>\n",
       "      <td>No</td>\n",
       "      <td>No</td>\n",
       "      <td>Emerging</td>\n",
       "    </tr>\n",
       "    <tr>\n",
       "      <th>1</th>\n",
       "      <td>1</td>\n",
       "      <td>Australia</td>\n",
       "      <td>721.4</td>\n",
       "      <td>1687713</td>\n",
       "      <td>1719262</td>\n",
       "      <td>63487</td>\n",
       "      <td>64674</td>\n",
       "      <td>0.95</td>\n",
       "      <td>26141369</td>\n",
       "      <td>7692024</td>\n",
       "      <td>No</td>\n",
       "      <td>No</td>\n",
       "      <td>No</td>\n",
       "      <td>No</td>\n",
       "      <td>Yes</td>\n",
       "      <td>Yes</td>\n",
       "      <td>Yes</td>\n",
       "      <td>No</td>\n",
       "      <td>Advanced</td>\n",
       "    </tr>\n",
       "    <tr>\n",
       "      <th>2</th>\n",
       "      <td>2</td>\n",
       "      <td>Brazil</td>\n",
       "      <td>626.4</td>\n",
       "      <td>2126809</td>\n",
       "      <td>4101022</td>\n",
       "      <td>10413</td>\n",
       "      <td>20079</td>\n",
       "      <td>0.75</td>\n",
       "      <td>217240060</td>\n",
       "      <td>8515767</td>\n",
       "      <td>No</td>\n",
       "      <td>Yes</td>\n",
       "      <td>No</td>\n",
       "      <td>Yes</td>\n",
       "      <td>No</td>\n",
       "      <td>No</td>\n",
       "      <td>No</td>\n",
       "      <td>No</td>\n",
       "      <td>Emerging</td>\n",
       "    </tr>\n",
       "    <tr>\n",
       "      <th>3</th>\n",
       "      <td>3</td>\n",
       "      <td>Canada</td>\n",
       "      <td>1179.1</td>\n",
       "      <td>2117805</td>\n",
       "      <td>2378973</td>\n",
       "      <td>53247</td>\n",
       "      <td>59813</td>\n",
       "      <td>0.94</td>\n",
       "      <td>38743000</td>\n",
       "      <td>9984670</td>\n",
       "      <td>No</td>\n",
       "      <td>No</td>\n",
       "      <td>Yes</td>\n",
       "      <td>No</td>\n",
       "      <td>No</td>\n",
       "      <td>Yes</td>\n",
       "      <td>Yes</td>\n",
       "      <td>No</td>\n",
       "      <td>Advanced</td>\n",
       "    </tr>\n",
       "    <tr>\n",
       "      <th>4</th>\n",
       "      <td>4</td>\n",
       "      <td>China</td>\n",
       "      <td>6309.6</td>\n",
       "      <td>17700899</td>\n",
       "      <td>32897929</td>\n",
       "      <td>12541</td>\n",
       "      <td>23309</td>\n",
       "      <td>0.77</td>\n",
       "      <td>1411750000</td>\n",
       "      <td>9596960</td>\n",
       "      <td>Yes</td>\n",
       "      <td>No</td>\n",
       "      <td>No</td>\n",
       "      <td>Yes</td>\n",
       "      <td>No</td>\n",
       "      <td>No</td>\n",
       "      <td>No</td>\n",
       "      <td>Yes</td>\n",
       "      <td>Emerging</td>\n",
       "    </tr>\n",
       "    <tr>\n",
       "      <th>5</th>\n",
       "      <td>5</td>\n",
       "      <td>France</td>\n",
       "      <td>1435.8</td>\n",
       "      <td>3049016</td>\n",
       "      <td>3868619</td>\n",
       "      <td>46315</td>\n",
       "      <td>58765</td>\n",
       "      <td>0.90</td>\n",
       "      <td>68305148</td>\n",
       "      <td>640679</td>\n",
       "      <td>Yes</td>\n",
       "      <td>No</td>\n",
       "      <td>Yes</td>\n",
       "      <td>No</td>\n",
       "      <td>No</td>\n",
       "      <td>Yes</td>\n",
       "      <td>Yes</td>\n",
       "      <td>No</td>\n",
       "      <td>Advanced</td>\n",
       "    </tr>\n",
       "    <tr>\n",
       "      <th>6</th>\n",
       "      <td>6</td>\n",
       "      <td>Germany</td>\n",
       "      <td>3226.9</td>\n",
       "      <td>4429838</td>\n",
       "      <td>5537992</td>\n",
       "      <td>52824</td>\n",
       "      <td>66038</td>\n",
       "      <td>0.94</td>\n",
       "      <td>84316622</td>\n",
       "      <td>357114</td>\n",
       "      <td>No</td>\n",
       "      <td>Yes</td>\n",
       "      <td>Yes</td>\n",
       "      <td>No</td>\n",
       "      <td>No</td>\n",
       "      <td>Yes</td>\n",
       "      <td>Yes</td>\n",
       "      <td>No</td>\n",
       "      <td>Advanced</td>\n",
       "    </tr>\n",
       "    <tr>\n",
       "      <th>7</th>\n",
       "      <td>7</td>\n",
       "      <td>India</td>\n",
       "      <td>1176.8</td>\n",
       "      <td>3732224</td>\n",
       "      <td>13119622</td>\n",
       "      <td>2612</td>\n",
       "      <td>9183</td>\n",
       "      <td>0.63</td>\n",
       "      <td>1406632000</td>\n",
       "      <td>3287263</td>\n",
       "      <td>No</td>\n",
       "      <td>Yes</td>\n",
       "      <td>No</td>\n",
       "      <td>Yes</td>\n",
       "      <td>No</td>\n",
       "      <td>No</td>\n",
       "      <td>No</td>\n",
       "      <td>Yes</td>\n",
       "      <td>Emerging</td>\n",
       "    </tr>\n",
       "    <tr>\n",
       "      <th>8</th>\n",
       "      <td>8</td>\n",
       "      <td>Indonesia</td>\n",
       "      <td>529.4</td>\n",
       "      <td>1417387</td>\n",
       "      <td>4393370</td>\n",
       "      <td>5109</td>\n",
       "      <td>15836</td>\n",
       "      <td>0.70</td>\n",
       "      <td>279088893</td>\n",
       "      <td>1904569</td>\n",
       "      <td>No</td>\n",
       "      <td>No</td>\n",
       "      <td>No</td>\n",
       "      <td>No</td>\n",
       "      <td>Yes</td>\n",
       "      <td>No</td>\n",
       "      <td>No</td>\n",
       "      <td>No</td>\n",
       "      <td>Emerging</td>\n",
       "    </tr>\n",
       "    <tr>\n",
       "      <th>9</th>\n",
       "      <td>9</td>\n",
       "      <td>Italy</td>\n",
       "      <td>1346.4</td>\n",
       "      <td>2186082</td>\n",
       "      <td>3193180</td>\n",
       "      <td>37146</td>\n",
       "      <td>54259</td>\n",
       "      <td>0.90</td>\n",
       "      <td>61095551</td>\n",
       "      <td>301336</td>\n",
       "      <td>No</td>\n",
       "      <td>No</td>\n",
       "      <td>Yes</td>\n",
       "      <td>No</td>\n",
       "      <td>No</td>\n",
       "      <td>Yes</td>\n",
       "      <td>Yes</td>\n",
       "      <td>No</td>\n",
       "      <td>Advanced</td>\n",
       "    </tr>\n",
       "  </tbody>\n",
       "</table>\n",
       "</div>"
      ],
      "text/plain": [
       "   Unnamed: 0       País Trans_Bil_USD  PIB Nominal   PPP_PIB  PIB_percapta  \\\n",
       "0           0  Argentina         170.1       621833   1239515         13297   \n",
       "1           1  Australia         721.4      1687713   1719262         63487   \n",
       "2           2     Brazil         626.4      2126809   4101022         10413   \n",
       "3           3     Canada        1179.1      2117805   2378973         53247   \n",
       "4           4      China        6309.6     17700899  32897929         12541   \n",
       "5           5     France        1435.8      3049016   3868619         46315   \n",
       "6           6    Germany        3226.9      4429838   5537992         52824   \n",
       "7           7      India        1176.8      3732224  13119622          2612   \n",
       "8           8  Indonesia         529.4      1417387   4393370          5109   \n",
       "9           9      Italy        1346.4      2186082   3193180         37146   \n",
       "\n",
       "   PPP_percapta  IDH   População  Area km2   P5   G4   G7 BRICS MIKTA  DAC  \\\n",
       "0         26506 0.84    46300000   2780400   No   No   No    No    No   No   \n",
       "1         64674 0.95    26141369   7692024   No   No   No    No   Yes  Yes   \n",
       "2         20079 0.75   217240060   8515767   No  Yes   No   Yes    No   No   \n",
       "3         59813 0.94    38743000   9984670   No   No  Yes    No    No  Yes   \n",
       "4         23309 0.77  1411750000   9596960  Yes   No   No   Yes    No   No   \n",
       "5         58765 0.90    68305148    640679  Yes   No  Yes    No    No  Yes   \n",
       "6         66038 0.94    84316622    357114   No  Yes  Yes    No    No  Yes   \n",
       "7          9183 0.63  1406632000   3287263   No  Yes   No   Yes    No   No   \n",
       "8         15836 0.70   279088893   1904569   No   No   No    No   Yes   No   \n",
       "9         54259 0.90    61095551    301336   No   No  Yes    No    No  Yes   \n",
       "\n",
       "  OECD  SCO FMI_Class  \n",
       "0   No   No  Emerging  \n",
       "1  Yes   No  Advanced  \n",
       "2   No   No  Emerging  \n",
       "3  Yes   No  Advanced  \n",
       "4   No  Yes  Emerging  \n",
       "5  Yes   No  Advanced  \n",
       "6  Yes   No  Advanced  \n",
       "7   No  Yes  Emerging  \n",
       "8   No   No  Emerging  \n",
       "9  Yes   No  Advanced  "
      ]
     },
     "execution_count": 48,
     "metadata": {},
     "output_type": "execute_result"
    }
   ],
   "source": [
    "raw_df.head(10)"
   ]
  },
  {
   "cell_type": "code",
   "execution_count": 49,
   "metadata": {},
   "outputs": [
    {
     "data": {
      "text/html": [
       "<div>\n",
       "<style scoped>\n",
       "    .dataframe tbody tr th:only-of-type {\n",
       "        vertical-align: middle;\n",
       "    }\n",
       "\n",
       "    .dataframe tbody tr th {\n",
       "        vertical-align: top;\n",
       "    }\n",
       "\n",
       "    .dataframe thead th {\n",
       "        text-align: right;\n",
       "    }\n",
       "</style>\n",
       "<table border=\"1\" class=\"dataframe\">\n",
       "  <thead>\n",
       "    <tr style=\"text-align: right;\">\n",
       "      <th></th>\n",
       "      <th>Unnamed: 0</th>\n",
       "      <th>PIB Nominal</th>\n",
       "      <th>PPP_PIB</th>\n",
       "      <th>PIB_percapta</th>\n",
       "      <th>PPP_percapta</th>\n",
       "      <th>IDH</th>\n",
       "      <th>População</th>\n",
       "      <th>Area km2</th>\n",
       "    </tr>\n",
       "  </thead>\n",
       "  <tbody>\n",
       "    <tr>\n",
       "      <th>count</th>\n",
       "      <td>21.00</td>\n",
       "      <td>21.00</td>\n",
       "      <td>21.00</td>\n",
       "      <td>21.00</td>\n",
       "      <td>21.00</td>\n",
       "      <td>21.00</td>\n",
       "      <td>21.00</td>\n",
       "      <td>21.00</td>\n",
       "    </tr>\n",
       "    <tr>\n",
       "      <th>mean</th>\n",
       "      <td>10.00</td>\n",
       "      <td>4,894,273.90</td>\n",
       "      <td>7,722,738.43</td>\n",
       "      <td>29,311.52</td>\n",
       "      <td>42,604.43</td>\n",
       "      <td>0.83</td>\n",
       "      <td>310,643,752.38</td>\n",
       "      <td>5,380,341.00</td>\n",
       "    </tr>\n",
       "    <tr>\n",
       "      <th>std</th>\n",
       "      <td>6.20</td>\n",
       "      <td>7,016,708.82</td>\n",
       "      <td>9,156,329.79</td>\n",
       "      <td>22,424.92</td>\n",
       "      <td>22,219.32</td>\n",
       "      <td>0.11</td>\n",
       "      <td>470,103,261.65</td>\n",
       "      <td>7,250,720.04</td>\n",
       "    </tr>\n",
       "    <tr>\n",
       "      <th>min</th>\n",
       "      <td>0.00</td>\n",
       "      <td>380,906.00</td>\n",
       "      <td>997,444.00</td>\n",
       "      <td>2,044.00</td>\n",
       "      <td>6,341.00</td>\n",
       "      <td>0.58</td>\n",
       "      <td>26,141,369.00</td>\n",
       "      <td>100,210.00</td>\n",
       "    </tr>\n",
       "    <tr>\n",
       "      <th>25%</th>\n",
       "      <td>5.00</td>\n",
       "      <td>1,687,713.00</td>\n",
       "      <td>2,924,189.00</td>\n",
       "      <td>12,541.00</td>\n",
       "      <td>23,309.00</td>\n",
       "      <td>0.76</td>\n",
       "      <td>61,060,000.00</td>\n",
       "      <td>640,679.00</td>\n",
       "    </tr>\n",
       "    <tr>\n",
       "      <th>50%</th>\n",
       "      <td>10.00</td>\n",
       "      <td>2,126,809.00</td>\n",
       "      <td>3,871,790.00</td>\n",
       "      <td>32,586.00</td>\n",
       "      <td>52,120.00</td>\n",
       "      <td>0.88</td>\n",
       "      <td>85,551,932.00</td>\n",
       "      <td>2,149,690.00</td>\n",
       "    </tr>\n",
       "    <tr>\n",
       "      <th>75%</th>\n",
       "      <td>15.00</td>\n",
       "      <td>3,732,224.00</td>\n",
       "      <td>6,495,214.00</td>\n",
       "      <td>46,315.00</td>\n",
       "      <td>58,765.00</td>\n",
       "      <td>0.93</td>\n",
       "      <td>279,088,893.00</td>\n",
       "      <td>8,515,767.00</td>\n",
       "    </tr>\n",
       "    <tr>\n",
       "      <th>max</th>\n",
       "      <td>20.00</td>\n",
       "      <td>26,949,643.00</td>\n",
       "      <td>32,897,929.00</td>\n",
       "      <td>80,412.00</td>\n",
       "      <td>80,412.00</td>\n",
       "      <td>0.95</td>\n",
       "      <td>1,411,750,000.00</td>\n",
       "      <td>29,922,059.00</td>\n",
       "    </tr>\n",
       "  </tbody>\n",
       "</table>\n",
       "</div>"
      ],
      "text/plain": [
       "       Unnamed: 0   PIB Nominal       PPP_PIB  PIB_percapta  PPP_percapta  \\\n",
       "count       21.00         21.00         21.00         21.00         21.00   \n",
       "mean        10.00  4,894,273.90  7,722,738.43     29,311.52     42,604.43   \n",
       "std          6.20  7,016,708.82  9,156,329.79     22,424.92     22,219.32   \n",
       "min          0.00    380,906.00    997,444.00      2,044.00      6,341.00   \n",
       "25%          5.00  1,687,713.00  2,924,189.00     12,541.00     23,309.00   \n",
       "50%         10.00  2,126,809.00  3,871,790.00     32,586.00     52,120.00   \n",
       "75%         15.00  3,732,224.00  6,495,214.00     46,315.00     58,765.00   \n",
       "max         20.00 26,949,643.00 32,897,929.00     80,412.00     80,412.00   \n",
       "\n",
       "        IDH        População      Area km2  \n",
       "count 21.00            21.00         21.00  \n",
       "mean   0.83   310,643,752.38  5,380,341.00  \n",
       "std    0.11   470,103,261.65  7,250,720.04  \n",
       "min    0.58    26,141,369.00    100,210.00  \n",
       "25%    0.76    61,060,000.00    640,679.00  \n",
       "50%    0.88    85,551,932.00  2,149,690.00  \n",
       "75%    0.93   279,088,893.00  8,515,767.00  \n",
       "max    0.95 1,411,750,000.00 29,922,059.00  "
      ]
     },
     "execution_count": 49,
     "metadata": {},
     "output_type": "execute_result"
    }
   ],
   "source": [
    "#describe\n",
    "\n",
    "raw_df.describe()"
   ]
  },
  {
   "cell_type": "markdown",
   "metadata": {},
   "source": [
    "### Limpando os dados e primeiras visualizações"
   ]
  },
  {
   "cell_type": "code",
   "execution_count": 50,
   "metadata": {},
   "outputs": [],
   "source": [
    "clean_df= raw_df.drop('Unnamed: 0',axis=1)\n"
   ]
  },
  {
   "cell_type": "code",
   "execution_count": 52,
   "metadata": {},
   "outputs": [
    {
     "data": {
      "text/html": [
       "<div>\n",
       "<style scoped>\n",
       "    .dataframe tbody tr th:only-of-type {\n",
       "        vertical-align: middle;\n",
       "    }\n",
       "\n",
       "    .dataframe tbody tr th {\n",
       "        vertical-align: top;\n",
       "    }\n",
       "\n",
       "    .dataframe thead th {\n",
       "        text-align: right;\n",
       "    }\n",
       "</style>\n",
       "<table border=\"1\" class=\"dataframe\">\n",
       "  <thead>\n",
       "    <tr style=\"text-align: right;\">\n",
       "      <th></th>\n",
       "      <th>Trans_Bil_USD</th>\n",
       "      <th>PIB Nominal</th>\n",
       "      <th>PPP_PIB</th>\n",
       "      <th>PIB_percapta</th>\n",
       "      <th>PPP_percapta</th>\n",
       "      <th>IDH</th>\n",
       "      <th>População</th>\n",
       "      <th>Area km2</th>\n",
       "      <th>P5</th>\n",
       "      <th>G4</th>\n",
       "      <th>G7</th>\n",
       "      <th>BRICS</th>\n",
       "      <th>MIKTA</th>\n",
       "      <th>DAC</th>\n",
       "      <th>OECD</th>\n",
       "      <th>SCO</th>\n",
       "      <th>FMI_Class</th>\n",
       "    </tr>\n",
       "    <tr>\n",
       "      <th>País</th>\n",
       "      <th></th>\n",
       "      <th></th>\n",
       "      <th></th>\n",
       "      <th></th>\n",
       "      <th></th>\n",
       "      <th></th>\n",
       "      <th></th>\n",
       "      <th></th>\n",
       "      <th></th>\n",
       "      <th></th>\n",
       "      <th></th>\n",
       "      <th></th>\n",
       "      <th></th>\n",
       "      <th></th>\n",
       "      <th></th>\n",
       "      <th></th>\n",
       "      <th></th>\n",
       "    </tr>\n",
       "  </thead>\n",
       "  <tbody>\n",
       "    <tr>\n",
       "      <th>Argentina</th>\n",
       "      <td>170.1</td>\n",
       "      <td>621833</td>\n",
       "      <td>1239515</td>\n",
       "      <td>13297</td>\n",
       "      <td>26506</td>\n",
       "      <td>0.84</td>\n",
       "      <td>46300000</td>\n",
       "      <td>2780400</td>\n",
       "      <td>No</td>\n",
       "      <td>No</td>\n",
       "      <td>No</td>\n",
       "      <td>No</td>\n",
       "      <td>No</td>\n",
       "      <td>No</td>\n",
       "      <td>No</td>\n",
       "      <td>No</td>\n",
       "      <td>Emerging</td>\n",
       "    </tr>\n",
       "    <tr>\n",
       "      <th>Australia</th>\n",
       "      <td>721.4</td>\n",
       "      <td>1687713</td>\n",
       "      <td>1719262</td>\n",
       "      <td>63487</td>\n",
       "      <td>64674</td>\n",
       "      <td>0.95</td>\n",
       "      <td>26141369</td>\n",
       "      <td>7692024</td>\n",
       "      <td>No</td>\n",
       "      <td>No</td>\n",
       "      <td>No</td>\n",
       "      <td>No</td>\n",
       "      <td>Yes</td>\n",
       "      <td>Yes</td>\n",
       "      <td>Yes</td>\n",
       "      <td>No</td>\n",
       "      <td>Advanced</td>\n",
       "    </tr>\n",
       "    <tr>\n",
       "      <th>Brazil</th>\n",
       "      <td>626.4</td>\n",
       "      <td>2126809</td>\n",
       "      <td>4101022</td>\n",
       "      <td>10413</td>\n",
       "      <td>20079</td>\n",
       "      <td>0.75</td>\n",
       "      <td>217240060</td>\n",
       "      <td>8515767</td>\n",
       "      <td>No</td>\n",
       "      <td>Yes</td>\n",
       "      <td>No</td>\n",
       "      <td>Yes</td>\n",
       "      <td>No</td>\n",
       "      <td>No</td>\n",
       "      <td>No</td>\n",
       "      <td>No</td>\n",
       "      <td>Emerging</td>\n",
       "    </tr>\n",
       "    <tr>\n",
       "      <th>Canada</th>\n",
       "      <td>1179.1</td>\n",
       "      <td>2117805</td>\n",
       "      <td>2378973</td>\n",
       "      <td>53247</td>\n",
       "      <td>59813</td>\n",
       "      <td>0.94</td>\n",
       "      <td>38743000</td>\n",
       "      <td>9984670</td>\n",
       "      <td>No</td>\n",
       "      <td>No</td>\n",
       "      <td>Yes</td>\n",
       "      <td>No</td>\n",
       "      <td>No</td>\n",
       "      <td>Yes</td>\n",
       "      <td>Yes</td>\n",
       "      <td>No</td>\n",
       "      <td>Advanced</td>\n",
       "    </tr>\n",
       "    <tr>\n",
       "      <th>China</th>\n",
       "      <td>6309.6</td>\n",
       "      <td>17700899</td>\n",
       "      <td>32897929</td>\n",
       "      <td>12541</td>\n",
       "      <td>23309</td>\n",
       "      <td>0.77</td>\n",
       "      <td>1411750000</td>\n",
       "      <td>9596960</td>\n",
       "      <td>Yes</td>\n",
       "      <td>No</td>\n",
       "      <td>No</td>\n",
       "      <td>Yes</td>\n",
       "      <td>No</td>\n",
       "      <td>No</td>\n",
       "      <td>No</td>\n",
       "      <td>Yes</td>\n",
       "      <td>Emerging</td>\n",
       "    </tr>\n",
       "    <tr>\n",
       "      <th>France</th>\n",
       "      <td>1435.8</td>\n",
       "      <td>3049016</td>\n",
       "      <td>3868619</td>\n",
       "      <td>46315</td>\n",
       "      <td>58765</td>\n",
       "      <td>0.90</td>\n",
       "      <td>68305148</td>\n",
       "      <td>640679</td>\n",
       "      <td>Yes</td>\n",
       "      <td>No</td>\n",
       "      <td>Yes</td>\n",
       "      <td>No</td>\n",
       "      <td>No</td>\n",
       "      <td>Yes</td>\n",
       "      <td>Yes</td>\n",
       "      <td>No</td>\n",
       "      <td>Advanced</td>\n",
       "    </tr>\n",
       "    <tr>\n",
       "      <th>Germany</th>\n",
       "      <td>3226.9</td>\n",
       "      <td>4429838</td>\n",
       "      <td>5537992</td>\n",
       "      <td>52824</td>\n",
       "      <td>66038</td>\n",
       "      <td>0.94</td>\n",
       "      <td>84316622</td>\n",
       "      <td>357114</td>\n",
       "      <td>No</td>\n",
       "      <td>Yes</td>\n",
       "      <td>Yes</td>\n",
       "      <td>No</td>\n",
       "      <td>No</td>\n",
       "      <td>Yes</td>\n",
       "      <td>Yes</td>\n",
       "      <td>No</td>\n",
       "      <td>Advanced</td>\n",
       "    </tr>\n",
       "    <tr>\n",
       "      <th>India</th>\n",
       "      <td>1176.8</td>\n",
       "      <td>3732224</td>\n",
       "      <td>13119622</td>\n",
       "      <td>2612</td>\n",
       "      <td>9183</td>\n",
       "      <td>0.63</td>\n",
       "      <td>1406632000</td>\n",
       "      <td>3287263</td>\n",
       "      <td>No</td>\n",
       "      <td>Yes</td>\n",
       "      <td>No</td>\n",
       "      <td>Yes</td>\n",
       "      <td>No</td>\n",
       "      <td>No</td>\n",
       "      <td>No</td>\n",
       "      <td>Yes</td>\n",
       "      <td>Emerging</td>\n",
       "    </tr>\n",
       "    <tr>\n",
       "      <th>Indonesia</th>\n",
       "      <td>529.4</td>\n",
       "      <td>1417387</td>\n",
       "      <td>4393370</td>\n",
       "      <td>5109</td>\n",
       "      <td>15836</td>\n",
       "      <td>0.70</td>\n",
       "      <td>279088893</td>\n",
       "      <td>1904569</td>\n",
       "      <td>No</td>\n",
       "      <td>No</td>\n",
       "      <td>No</td>\n",
       "      <td>No</td>\n",
       "      <td>Yes</td>\n",
       "      <td>No</td>\n",
       "      <td>No</td>\n",
       "      <td>No</td>\n",
       "      <td>Emerging</td>\n",
       "    </tr>\n",
       "    <tr>\n",
       "      <th>Italy</th>\n",
       "      <td>1346.4</td>\n",
       "      <td>2186082</td>\n",
       "      <td>3193180</td>\n",
       "      <td>37146</td>\n",
       "      <td>54259</td>\n",
       "      <td>0.90</td>\n",
       "      <td>61095551</td>\n",
       "      <td>301336</td>\n",
       "      <td>No</td>\n",
       "      <td>No</td>\n",
       "      <td>Yes</td>\n",
       "      <td>No</td>\n",
       "      <td>No</td>\n",
       "      <td>Yes</td>\n",
       "      <td>Yes</td>\n",
       "      <td>No</td>\n",
       "      <td>Advanced</td>\n",
       "    </tr>\n",
       "    <tr>\n",
       "      <th>Japan</th>\n",
       "      <td>1644.2</td>\n",
       "      <td>4230862</td>\n",
       "      <td>6495214</td>\n",
       "      <td>33950</td>\n",
       "      <td>52120</td>\n",
       "      <td>0.93</td>\n",
       "      <td>125592404</td>\n",
       "      <td>377930</td>\n",
       "      <td>No</td>\n",
       "      <td>Yes</td>\n",
       "      <td>Yes</td>\n",
       "      <td>No</td>\n",
       "      <td>No</td>\n",
       "      <td>Yes</td>\n",
       "      <td>Yes</td>\n",
       "      <td>No</td>\n",
       "      <td>Advanced</td>\n",
       "    </tr>\n",
       "    <tr>\n",
       "      <th>Mexico</th>\n",
       "      <td>1204.5</td>\n",
       "      <td>1811468</td>\n",
       "      <td>3277601</td>\n",
       "      <td>13804</td>\n",
       "      <td>24976</td>\n",
       "      <td>0.76</td>\n",
       "      <td>131541424</td>\n",
       "      <td>1964375</td>\n",
       "      <td>No</td>\n",
       "      <td>No</td>\n",
       "      <td>No</td>\n",
       "      <td>No</td>\n",
       "      <td>Yes</td>\n",
       "      <td>No</td>\n",
       "      <td>Yes</td>\n",
       "      <td>No</td>\n",
       "      <td>Emerging</td>\n",
       "    </tr>\n",
       "    <tr>\n",
       "      <th>South Korea</th>\n",
       "      <td>1415.0</td>\n",
       "      <td>1709232</td>\n",
       "      <td>2924189</td>\n",
       "      <td>33147</td>\n",
       "      <td>56709</td>\n",
       "      <td>0.93</td>\n",
       "      <td>51844834</td>\n",
       "      <td>100210</td>\n",
       "      <td>No</td>\n",
       "      <td>No</td>\n",
       "      <td>No</td>\n",
       "      <td>No</td>\n",
       "      <td>Yes</td>\n",
       "      <td>Yes</td>\n",
       "      <td>Yes</td>\n",
       "      <td>No</td>\n",
       "      <td>Advanced</td>\n",
       "    </tr>\n",
       "    <tr>\n",
       "      <th>Russia</th>\n",
       "      <td>772.3</td>\n",
       "      <td>1862470</td>\n",
       "      <td>5056479</td>\n",
       "      <td>13006</td>\n",
       "      <td>35310</td>\n",
       "      <td>0.82</td>\n",
       "      <td>145807429</td>\n",
       "      <td>17098242</td>\n",
       "      <td>Yes</td>\n",
       "      <td>No</td>\n",
       "      <td>No</td>\n",
       "      <td>Yes</td>\n",
       "      <td>No</td>\n",
       "      <td>No</td>\n",
       "      <td>No</td>\n",
       "      <td>Yes</td>\n",
       "      <td>Emerging</td>\n",
       "    </tr>\n",
       "    <tr>\n",
       "      <th>Saudi Arabia</th>\n",
       "      <td>598.8</td>\n",
       "      <td>1069437</td>\n",
       "      <td>2246535</td>\n",
       "      <td>32586</td>\n",
       "      <td>68453</td>\n",
       "      <td>0.88</td>\n",
       "      <td>36168000</td>\n",
       "      <td>2149690</td>\n",
       "      <td>No</td>\n",
       "      <td>No</td>\n",
       "      <td>No</td>\n",
       "      <td>Yes</td>\n",
       "      <td>No</td>\n",
       "      <td>No</td>\n",
       "      <td>No</td>\n",
       "      <td>Dialogue partner</td>\n",
       "      <td>Emerging</td>\n",
       "    </tr>\n",
       "    <tr>\n",
       "      <th>South Africa</th>\n",
       "      <td>259.1</td>\n",
       "      <td>380906</td>\n",
       "      <td>997444</td>\n",
       "      <td>6191</td>\n",
       "      <td>16211</td>\n",
       "      <td>0.71</td>\n",
       "      <td>61060000</td>\n",
       "      <td>1221037</td>\n",
       "      <td>No</td>\n",
       "      <td>No</td>\n",
       "      <td>No</td>\n",
       "      <td>Yes</td>\n",
       "      <td>No</td>\n",
       "      <td>No</td>\n",
       "      <td>No</td>\n",
       "      <td>No</td>\n",
       "      <td>Emerging</td>\n",
       "    </tr>\n",
       "    <tr>\n",
       "      <th>Turkey</th>\n",
       "      <td>617.9</td>\n",
       "      <td>1154600</td>\n",
       "      <td>3613540</td>\n",
       "      <td>13384</td>\n",
       "      <td>41888</td>\n",
       "      <td>0.84</td>\n",
       "      <td>85551932</td>\n",
       "      <td>783562</td>\n",
       "      <td>No</td>\n",
       "      <td>No</td>\n",
       "      <td>No</td>\n",
       "      <td>No</td>\n",
       "      <td>Yes</td>\n",
       "      <td>No</td>\n",
       "      <td>Yes</td>\n",
       "      <td>Dialogue partner</td>\n",
       "      <td>Emerging</td>\n",
       "    </tr>\n",
       "    <tr>\n",
       "      <th>United Kingdom</th>\n",
       "      <td>1353.3</td>\n",
       "      <td>3332059</td>\n",
       "      <td>3871790</td>\n",
       "      <td>48913</td>\n",
       "      <td>56836</td>\n",
       "      <td>0.93</td>\n",
       "      <td>68492933</td>\n",
       "      <td>242495</td>\n",
       "      <td>Yes</td>\n",
       "      <td>No</td>\n",
       "      <td>Yes</td>\n",
       "      <td>No</td>\n",
       "      <td>No</td>\n",
       "      <td>Yes</td>\n",
       "      <td>Yes</td>\n",
       "      <td>No</td>\n",
       "      <td>Advanced</td>\n",
       "    </tr>\n",
       "    <tr>\n",
       "      <th>United States</th>\n",
       "      <td>5441.0</td>\n",
       "      <td>26949643</td>\n",
       "      <td>26949643</td>\n",
       "      <td>80412</td>\n",
       "      <td>80412</td>\n",
       "      <td>0.92</td>\n",
       "      <td>337341954</td>\n",
       "      <td>9833517</td>\n",
       "      <td>Yes</td>\n",
       "      <td>No</td>\n",
       "      <td>Yes</td>\n",
       "      <td>No</td>\n",
       "      <td>No</td>\n",
       "      <td>Yes</td>\n",
       "      <td>Yes</td>\n",
       "      <td>No</td>\n",
       "      <td>Advanced</td>\n",
       "    </tr>\n",
       "    <tr>\n",
       "      <th>European Union</th>\n",
       "      <td>5,858.4</td>\n",
       "      <td>18351127</td>\n",
       "      <td>25430409</td>\n",
       "      <td>41114</td>\n",
       "      <td>56975</td>\n",
       "      <td>0.90</td>\n",
       "      <td>446828803</td>\n",
       "      <td>4233262</td>\n",
       "      <td>No</td>\n",
       "      <td>No</td>\n",
       "      <td>Yes</td>\n",
       "      <td>No</td>\n",
       "      <td>No</td>\n",
       "      <td>Yes</td>\n",
       "      <td>No</td>\n",
       "      <td>No</td>\n",
       "      <td>Advanced</td>\n",
       "    </tr>\n",
       "    <tr>\n",
       "      <th>African Union</th>\n",
       "      <td>1379.0</td>\n",
       "      <td>2858342</td>\n",
       "      <td>8865179</td>\n",
       "      <td>2044</td>\n",
       "      <td>6341</td>\n",
       "      <td>0.58</td>\n",
       "      <td>1393676444</td>\n",
       "      <td>29922059</td>\n",
       "      <td>No</td>\n",
       "      <td>No</td>\n",
       "      <td>No</td>\n",
       "      <td>No</td>\n",
       "      <td>No</td>\n",
       "      <td>No</td>\n",
       "      <td>No</td>\n",
       "      <td>No</td>\n",
       "      <td>Emerging</td>\n",
       "    </tr>\n",
       "  </tbody>\n",
       "</table>\n",
       "</div>"
      ],
      "text/plain": [
       "               Trans_Bil_USD  PIB Nominal   PPP_PIB  PIB_percapta  \\\n",
       "País                                                                \n",
       "Argentina              170.1       621833   1239515         13297   \n",
       "Australia              721.4      1687713   1719262         63487   \n",
       "Brazil                 626.4      2126809   4101022         10413   \n",
       "Canada                1179.1      2117805   2378973         53247   \n",
       "China                 6309.6     17700899  32897929         12541   \n",
       "France                1435.8      3049016   3868619         46315   \n",
       "Germany               3226.9      4429838   5537992         52824   \n",
       "India                 1176.8      3732224  13119622          2612   \n",
       "Indonesia              529.4      1417387   4393370          5109   \n",
       "Italy                 1346.4      2186082   3193180         37146   \n",
       "Japan                 1644.2      4230862   6495214         33950   \n",
       "Mexico                1204.5      1811468   3277601         13804   \n",
       "South Korea           1415.0      1709232   2924189         33147   \n",
       "Russia                 772.3      1862470   5056479         13006   \n",
       "Saudi Arabia           598.8      1069437   2246535         32586   \n",
       "South Africa           259.1       380906    997444          6191   \n",
       "Turkey                 617.9      1154600   3613540         13384   \n",
       "United Kingdom        1353.3      3332059   3871790         48913   \n",
       "United States         5441.0     26949643  26949643         80412   \n",
       "European Union       5,858.4     18351127  25430409         41114   \n",
       "African Union         1379.0      2858342   8865179          2044   \n",
       "\n",
       "                PPP_percapta  IDH   População  Area km2   P5   G4   G7 BRICS  \\\n",
       "País                                                                           \n",
       "Argentina              26506 0.84    46300000   2780400   No   No   No    No   \n",
       "Australia              64674 0.95    26141369   7692024   No   No   No    No   \n",
       "Brazil                 20079 0.75   217240060   8515767   No  Yes   No   Yes   \n",
       "Canada                 59813 0.94    38743000   9984670   No   No  Yes    No   \n",
       "China                  23309 0.77  1411750000   9596960  Yes   No   No   Yes   \n",
       "France                 58765 0.90    68305148    640679  Yes   No  Yes    No   \n",
       "Germany                66038 0.94    84316622    357114   No  Yes  Yes    No   \n",
       "India                   9183 0.63  1406632000   3287263   No  Yes   No   Yes   \n",
       "Indonesia              15836 0.70   279088893   1904569   No   No   No    No   \n",
       "Italy                  54259 0.90    61095551    301336   No   No  Yes    No   \n",
       "Japan                  52120 0.93   125592404    377930   No  Yes  Yes    No   \n",
       "Mexico                 24976 0.76   131541424   1964375   No   No   No    No   \n",
       "South Korea            56709 0.93    51844834    100210   No   No   No    No   \n",
       "Russia                 35310 0.82   145807429  17098242  Yes   No   No   Yes   \n",
       "Saudi Arabia           68453 0.88    36168000   2149690   No   No   No   Yes   \n",
       "South Africa           16211 0.71    61060000   1221037   No   No   No   Yes   \n",
       "Turkey                 41888 0.84    85551932    783562   No   No   No    No   \n",
       "United Kingdom         56836 0.93    68492933    242495  Yes   No  Yes    No   \n",
       "United States          80412 0.92   337341954   9833517  Yes   No  Yes    No   \n",
       "European Union         56975 0.90   446828803   4233262   No   No  Yes    No   \n",
       "African Union           6341 0.58  1393676444  29922059   No   No   No    No   \n",
       "\n",
       "               MIKTA  DAC OECD               SCO FMI_Class  \n",
       "País                                                        \n",
       "Argentina         No   No   No                No  Emerging  \n",
       "Australia        Yes  Yes  Yes                No  Advanced  \n",
       "Brazil            No   No   No                No  Emerging  \n",
       "Canada            No  Yes  Yes                No  Advanced  \n",
       "China             No   No   No               Yes  Emerging  \n",
       "France            No  Yes  Yes                No  Advanced  \n",
       "Germany           No  Yes  Yes                No  Advanced  \n",
       "India             No   No   No               Yes  Emerging  \n",
       "Indonesia        Yes   No   No                No  Emerging  \n",
       "Italy             No  Yes  Yes                No  Advanced  \n",
       "Japan             No  Yes  Yes                No  Advanced  \n",
       "Mexico           Yes   No  Yes                No  Emerging  \n",
       "South Korea      Yes  Yes  Yes                No  Advanced  \n",
       "Russia            No   No   No               Yes  Emerging  \n",
       "Saudi Arabia      No   No   No  Dialogue partner  Emerging  \n",
       "South Africa      No   No   No                No  Emerging  \n",
       "Turkey           Yes   No  Yes  Dialogue partner  Emerging  \n",
       "United Kingdom    No  Yes  Yes                No  Advanced  \n",
       "United States     No  Yes  Yes                No  Advanced  \n",
       "European Union    No  Yes   No                No  Advanced  \n",
       "African Union     No   No   No                No  Emerging  "
      ]
     },
     "execution_count": 52,
     "metadata": {},
     "output_type": "execute_result"
    }
   ],
   "source": [
    "clean_df.set_index('País')"
   ]
  },
  {
   "cell_type": "markdown",
   "metadata": {},
   "source": [
    "## IDH vs PIB"
   ]
  },
  {
   "cell_type": "code",
   "execution_count": 66,
   "metadata": {},
   "outputs": [
    {
     "data": {
      "application/vnd.plotly.v1+json": {
       "config": {
        "plotlyServerURL": "https://plot.ly"
       },
       "data": [
        {
         "alignmentgroup": "True",
         "hovertemplate": "País=%{x}<br>PIB_percapta=%{y}<br>IDH=%{marker.color}<extra></extra>",
         "legendgroup": "",
         "marker": {
          "color": [
           0.951,
           0.942,
           0.936,
           0.929,
           0.925,
           0.925,
           0.921,
           0.903,
           0.9,
           0.895,
           0.875,
           0.842,
           0.838,
           0.822,
           0.768,
           0.758,
           0.754,
           0.713,
           0.705,
           0.633,
           0.577
          ],
          "coloraxis": "coloraxis",
          "pattern": {
           "shape": ""
          }
         },
         "name": "",
         "offsetgroup": "",
         "orientation": "v",
         "showlegend": false,
         "textposition": "auto",
         "type": "bar",
         "x": [
          "Australia",
          "Germany",
          "Canada",
          "United Kingdom",
          "Japan",
          "South Korea",
          "United States",
          "France",
          "European Union",
          "Italy",
          "Saudi Arabia",
          "Argentina",
          "Turkey",
          "Russia",
          "China",
          "Mexico",
          "Brazil",
          "South Africa",
          "Indonesia",
          "India",
          "African Union"
         ],
         "xaxis": "x",
         "y": [
          63487,
          52824,
          53247,
          48913,
          33950,
          33147,
          80412,
          46315,
          41114,
          37146,
          32586,
          13297,
          13384,
          13006,
          12541,
          13804,
          10413,
          6191,
          5109,
          2612,
          2044
         ],
         "yaxis": "y"
        }
       ],
       "layout": {
        "barmode": "relative",
        "coloraxis": {
         "colorbar": {
          "title": {
           "text": "IDH"
          }
         },
         "colorscale": [
          [
           0,
           "#0d0887"
          ],
          [
           0.1111111111111111,
           "#46039f"
          ],
          [
           0.2222222222222222,
           "#7201a8"
          ],
          [
           0.3333333333333333,
           "#9c179e"
          ],
          [
           0.4444444444444444,
           "#bd3786"
          ],
          [
           0.5555555555555556,
           "#d8576b"
          ],
          [
           0.6666666666666666,
           "#ed7953"
          ],
          [
           0.7777777777777778,
           "#fb9f3a"
          ],
          [
           0.8888888888888888,
           "#fdca26"
          ],
          [
           1,
           "#f0f921"
          ]
         ]
        },
        "height": 600,
        "legend": {
         "tracegroupgap": 0
        },
        "template": {
         "data": {
          "bar": [
           {
            "error_x": {
             "color": "#2a3f5f"
            },
            "error_y": {
             "color": "#2a3f5f"
            },
            "marker": {
             "line": {
              "color": "#E5ECF6",
              "width": 0.5
             },
             "pattern": {
              "fillmode": "overlay",
              "size": 10,
              "solidity": 0.2
             }
            },
            "type": "bar"
           }
          ],
          "barpolar": [
           {
            "marker": {
             "line": {
              "color": "#E5ECF6",
              "width": 0.5
             },
             "pattern": {
              "fillmode": "overlay",
              "size": 10,
              "solidity": 0.2
             }
            },
            "type": "barpolar"
           }
          ],
          "carpet": [
           {
            "aaxis": {
             "endlinecolor": "#2a3f5f",
             "gridcolor": "white",
             "linecolor": "white",
             "minorgridcolor": "white",
             "startlinecolor": "#2a3f5f"
            },
            "baxis": {
             "endlinecolor": "#2a3f5f",
             "gridcolor": "white",
             "linecolor": "white",
             "minorgridcolor": "white",
             "startlinecolor": "#2a3f5f"
            },
            "type": "carpet"
           }
          ],
          "choropleth": [
           {
            "colorbar": {
             "outlinewidth": 0,
             "ticks": ""
            },
            "type": "choropleth"
           }
          ],
          "contour": [
           {
            "colorbar": {
             "outlinewidth": 0,
             "ticks": ""
            },
            "colorscale": [
             [
              0,
              "#0d0887"
             ],
             [
              0.1111111111111111,
              "#46039f"
             ],
             [
              0.2222222222222222,
              "#7201a8"
             ],
             [
              0.3333333333333333,
              "#9c179e"
             ],
             [
              0.4444444444444444,
              "#bd3786"
             ],
             [
              0.5555555555555556,
              "#d8576b"
             ],
             [
              0.6666666666666666,
              "#ed7953"
             ],
             [
              0.7777777777777778,
              "#fb9f3a"
             ],
             [
              0.8888888888888888,
              "#fdca26"
             ],
             [
              1,
              "#f0f921"
             ]
            ],
            "type": "contour"
           }
          ],
          "contourcarpet": [
           {
            "colorbar": {
             "outlinewidth": 0,
             "ticks": ""
            },
            "type": "contourcarpet"
           }
          ],
          "heatmap": [
           {
            "colorbar": {
             "outlinewidth": 0,
             "ticks": ""
            },
            "colorscale": [
             [
              0,
              "#0d0887"
             ],
             [
              0.1111111111111111,
              "#46039f"
             ],
             [
              0.2222222222222222,
              "#7201a8"
             ],
             [
              0.3333333333333333,
              "#9c179e"
             ],
             [
              0.4444444444444444,
              "#bd3786"
             ],
             [
              0.5555555555555556,
              "#d8576b"
             ],
             [
              0.6666666666666666,
              "#ed7953"
             ],
             [
              0.7777777777777778,
              "#fb9f3a"
             ],
             [
              0.8888888888888888,
              "#fdca26"
             ],
             [
              1,
              "#f0f921"
             ]
            ],
            "type": "heatmap"
           }
          ],
          "heatmapgl": [
           {
            "colorbar": {
             "outlinewidth": 0,
             "ticks": ""
            },
            "colorscale": [
             [
              0,
              "#0d0887"
             ],
             [
              0.1111111111111111,
              "#46039f"
             ],
             [
              0.2222222222222222,
              "#7201a8"
             ],
             [
              0.3333333333333333,
              "#9c179e"
             ],
             [
              0.4444444444444444,
              "#bd3786"
             ],
             [
              0.5555555555555556,
              "#d8576b"
             ],
             [
              0.6666666666666666,
              "#ed7953"
             ],
             [
              0.7777777777777778,
              "#fb9f3a"
             ],
             [
              0.8888888888888888,
              "#fdca26"
             ],
             [
              1,
              "#f0f921"
             ]
            ],
            "type": "heatmapgl"
           }
          ],
          "histogram": [
           {
            "marker": {
             "pattern": {
              "fillmode": "overlay",
              "size": 10,
              "solidity": 0.2
             }
            },
            "type": "histogram"
           }
          ],
          "histogram2d": [
           {
            "colorbar": {
             "outlinewidth": 0,
             "ticks": ""
            },
            "colorscale": [
             [
              0,
              "#0d0887"
             ],
             [
              0.1111111111111111,
              "#46039f"
             ],
             [
              0.2222222222222222,
              "#7201a8"
             ],
             [
              0.3333333333333333,
              "#9c179e"
             ],
             [
              0.4444444444444444,
              "#bd3786"
             ],
             [
              0.5555555555555556,
              "#d8576b"
             ],
             [
              0.6666666666666666,
              "#ed7953"
             ],
             [
              0.7777777777777778,
              "#fb9f3a"
             ],
             [
              0.8888888888888888,
              "#fdca26"
             ],
             [
              1,
              "#f0f921"
             ]
            ],
            "type": "histogram2d"
           }
          ],
          "histogram2dcontour": [
           {
            "colorbar": {
             "outlinewidth": 0,
             "ticks": ""
            },
            "colorscale": [
             [
              0,
              "#0d0887"
             ],
             [
              0.1111111111111111,
              "#46039f"
             ],
             [
              0.2222222222222222,
              "#7201a8"
             ],
             [
              0.3333333333333333,
              "#9c179e"
             ],
             [
              0.4444444444444444,
              "#bd3786"
             ],
             [
              0.5555555555555556,
              "#d8576b"
             ],
             [
              0.6666666666666666,
              "#ed7953"
             ],
             [
              0.7777777777777778,
              "#fb9f3a"
             ],
             [
              0.8888888888888888,
              "#fdca26"
             ],
             [
              1,
              "#f0f921"
             ]
            ],
            "type": "histogram2dcontour"
           }
          ],
          "mesh3d": [
           {
            "colorbar": {
             "outlinewidth": 0,
             "ticks": ""
            },
            "type": "mesh3d"
           }
          ],
          "parcoords": [
           {
            "line": {
             "colorbar": {
              "outlinewidth": 0,
              "ticks": ""
             }
            },
            "type": "parcoords"
           }
          ],
          "pie": [
           {
            "automargin": true,
            "type": "pie"
           }
          ],
          "scatter": [
           {
            "fillpattern": {
             "fillmode": "overlay",
             "size": 10,
             "solidity": 0.2
            },
            "type": "scatter"
           }
          ],
          "scatter3d": [
           {
            "line": {
             "colorbar": {
              "outlinewidth": 0,
              "ticks": ""
             }
            },
            "marker": {
             "colorbar": {
              "outlinewidth": 0,
              "ticks": ""
             }
            },
            "type": "scatter3d"
           }
          ],
          "scattercarpet": [
           {
            "marker": {
             "colorbar": {
              "outlinewidth": 0,
              "ticks": ""
             }
            },
            "type": "scattercarpet"
           }
          ],
          "scattergeo": [
           {
            "marker": {
             "colorbar": {
              "outlinewidth": 0,
              "ticks": ""
             }
            },
            "type": "scattergeo"
           }
          ],
          "scattergl": [
           {
            "marker": {
             "colorbar": {
              "outlinewidth": 0,
              "ticks": ""
             }
            },
            "type": "scattergl"
           }
          ],
          "scattermapbox": [
           {
            "marker": {
             "colorbar": {
              "outlinewidth": 0,
              "ticks": ""
             }
            },
            "type": "scattermapbox"
           }
          ],
          "scatterpolar": [
           {
            "marker": {
             "colorbar": {
              "outlinewidth": 0,
              "ticks": ""
             }
            },
            "type": "scatterpolar"
           }
          ],
          "scatterpolargl": [
           {
            "marker": {
             "colorbar": {
              "outlinewidth": 0,
              "ticks": ""
             }
            },
            "type": "scatterpolargl"
           }
          ],
          "scatterternary": [
           {
            "marker": {
             "colorbar": {
              "outlinewidth": 0,
              "ticks": ""
             }
            },
            "type": "scatterternary"
           }
          ],
          "surface": [
           {
            "colorbar": {
             "outlinewidth": 0,
             "ticks": ""
            },
            "colorscale": [
             [
              0,
              "#0d0887"
             ],
             [
              0.1111111111111111,
              "#46039f"
             ],
             [
              0.2222222222222222,
              "#7201a8"
             ],
             [
              0.3333333333333333,
              "#9c179e"
             ],
             [
              0.4444444444444444,
              "#bd3786"
             ],
             [
              0.5555555555555556,
              "#d8576b"
             ],
             [
              0.6666666666666666,
              "#ed7953"
             ],
             [
              0.7777777777777778,
              "#fb9f3a"
             ],
             [
              0.8888888888888888,
              "#fdca26"
             ],
             [
              1,
              "#f0f921"
             ]
            ],
            "type": "surface"
           }
          ],
          "table": [
           {
            "cells": {
             "fill": {
              "color": "#EBF0F8"
             },
             "line": {
              "color": "white"
             }
            },
            "header": {
             "fill": {
              "color": "#C8D4E3"
             },
             "line": {
              "color": "white"
             }
            },
            "type": "table"
           }
          ]
         },
         "layout": {
          "annotationdefaults": {
           "arrowcolor": "#2a3f5f",
           "arrowhead": 0,
           "arrowwidth": 1
          },
          "autotypenumbers": "strict",
          "coloraxis": {
           "colorbar": {
            "outlinewidth": 0,
            "ticks": ""
           }
          },
          "colorscale": {
           "diverging": [
            [
             0,
             "#8e0152"
            ],
            [
             0.1,
             "#c51b7d"
            ],
            [
             0.2,
             "#de77ae"
            ],
            [
             0.3,
             "#f1b6da"
            ],
            [
             0.4,
             "#fde0ef"
            ],
            [
             0.5,
             "#f7f7f7"
            ],
            [
             0.6,
             "#e6f5d0"
            ],
            [
             0.7,
             "#b8e186"
            ],
            [
             0.8,
             "#7fbc41"
            ],
            [
             0.9,
             "#4d9221"
            ],
            [
             1,
             "#276419"
            ]
           ],
           "sequential": [
            [
             0,
             "#0d0887"
            ],
            [
             0.1111111111111111,
             "#46039f"
            ],
            [
             0.2222222222222222,
             "#7201a8"
            ],
            [
             0.3333333333333333,
             "#9c179e"
            ],
            [
             0.4444444444444444,
             "#bd3786"
            ],
            [
             0.5555555555555556,
             "#d8576b"
            ],
            [
             0.6666666666666666,
             "#ed7953"
            ],
            [
             0.7777777777777778,
             "#fb9f3a"
            ],
            [
             0.8888888888888888,
             "#fdca26"
            ],
            [
             1,
             "#f0f921"
            ]
           ],
           "sequentialminus": [
            [
             0,
             "#0d0887"
            ],
            [
             0.1111111111111111,
             "#46039f"
            ],
            [
             0.2222222222222222,
             "#7201a8"
            ],
            [
             0.3333333333333333,
             "#9c179e"
            ],
            [
             0.4444444444444444,
             "#bd3786"
            ],
            [
             0.5555555555555556,
             "#d8576b"
            ],
            [
             0.6666666666666666,
             "#ed7953"
            ],
            [
             0.7777777777777778,
             "#fb9f3a"
            ],
            [
             0.8888888888888888,
             "#fdca26"
            ],
            [
             1,
             "#f0f921"
            ]
           ]
          },
          "colorway": [
           "#636efa",
           "#EF553B",
           "#00cc96",
           "#ab63fa",
           "#FFA15A",
           "#19d3f3",
           "#FF6692",
           "#B6E880",
           "#FF97FF",
           "#FECB52"
          ],
          "font": {
           "color": "#2a3f5f"
          },
          "geo": {
           "bgcolor": "white",
           "lakecolor": "white",
           "landcolor": "#E5ECF6",
           "showlakes": true,
           "showland": true,
           "subunitcolor": "white"
          },
          "hoverlabel": {
           "align": "left"
          },
          "hovermode": "closest",
          "mapbox": {
           "style": "light"
          },
          "paper_bgcolor": "white",
          "plot_bgcolor": "#E5ECF6",
          "polar": {
           "angularaxis": {
            "gridcolor": "white",
            "linecolor": "white",
            "ticks": ""
           },
           "bgcolor": "#E5ECF6",
           "radialaxis": {
            "gridcolor": "white",
            "linecolor": "white",
            "ticks": ""
           }
          },
          "scene": {
           "xaxis": {
            "backgroundcolor": "#E5ECF6",
            "gridcolor": "white",
            "gridwidth": 2,
            "linecolor": "white",
            "showbackground": true,
            "ticks": "",
            "zerolinecolor": "white"
           },
           "yaxis": {
            "backgroundcolor": "#E5ECF6",
            "gridcolor": "white",
            "gridwidth": 2,
            "linecolor": "white",
            "showbackground": true,
            "ticks": "",
            "zerolinecolor": "white"
           },
           "zaxis": {
            "backgroundcolor": "#E5ECF6",
            "gridcolor": "white",
            "gridwidth": 2,
            "linecolor": "white",
            "showbackground": true,
            "ticks": "",
            "zerolinecolor": "white"
           }
          },
          "shapedefaults": {
           "line": {
            "color": "#2a3f5f"
           }
          },
          "ternary": {
           "aaxis": {
            "gridcolor": "white",
            "linecolor": "white",
            "ticks": ""
           },
           "baxis": {
            "gridcolor": "white",
            "linecolor": "white",
            "ticks": ""
           },
           "bgcolor": "#E5ECF6",
           "caxis": {
            "gridcolor": "white",
            "linecolor": "white",
            "ticks": ""
           }
          },
          "title": {
           "x": 0.05
          },
          "xaxis": {
           "automargin": true,
           "gridcolor": "white",
           "linecolor": "white",
           "ticks": "",
           "title": {
            "standoff": 15
           },
           "zerolinecolor": "white",
           "zerolinewidth": 2
          },
          "yaxis": {
           "automargin": true,
           "gridcolor": "white",
           "linecolor": "white",
           "ticks": "",
           "title": {
            "standoff": 15
           },
           "zerolinecolor": "white",
           "zerolinewidth": 2
          }
         }
        },
        "title": {
         "text": "IDH versus PIB"
        },
        "width": 1000,
        "xaxis": {
         "anchor": "y",
         "domain": [
          0,
          1
         ],
         "title": {
          "text": "País"
         }
        },
        "yaxis": {
         "anchor": "x",
         "domain": [
          0,
          1
         ],
         "title": {
          "text": "PIB_percapta"
         }
        }
       }
      }
     },
     "metadata": {},
     "output_type": "display_data"
    }
   ],
   "source": [
    "idh =clean_df[['País','IDH','PIB_percapta']].sort_values('IDH',ascending=False)\n",
    "idh\n",
    "\n",
    "chart = plx.bar(idh,x='País',y='PIB_percapta',width=1000,height=600,title='IDH versus PIB',labels={'PIB_percapta':'PIB_percapta'},color='IDH')\n",
    "chart.show()"
   ]
  },
  {
   "cell_type": "markdown",
   "metadata": {},
   "source": []
  },
  {
   "cell_type": "code",
   "execution_count": 80,
   "metadata": {},
   "outputs": [
    {
     "data": {
      "application/vnd.plotly.v1+json": {
       "config": {
        "plotlyServerURL": "https://plot.ly"
       },
       "data": [
        {
         "alignmentgroup": "True",
         "hovertemplate": "<b>%{hovertext}</b><br><br>País=%{x}<br>PIB_percapta=%{y}<br>IDH=%{marker.color}<extra></extra>",
         "hovertext": [
          "No",
          "Yes",
          "No",
          "No",
          "Yes",
          "No",
          "No",
          "No",
          "No",
          "No",
          "No",
          "No",
          "No",
          "No",
          "No",
          "No",
          "Yes",
          "No",
          "No",
          "Yes",
          "No"
         ],
         "legendgroup": "",
         "marker": {
          "color": [
           0.951,
           0.942,
           0.936,
           0.929,
           0.925,
           0.925,
           0.921,
           0.903,
           0.9,
           0.895,
           0.875,
           0.842,
           0.838,
           0.822,
           0.768,
           0.758,
           0.754,
           0.713,
           0.705,
           0.633,
           0.577
          ],
          "coloraxis": "coloraxis",
          "pattern": {
           "shape": ""
          }
         },
         "name": "",
         "offsetgroup": "",
         "orientation": "v",
         "showlegend": false,
         "textposition": "auto",
         "type": "bar",
         "x": [
          "Australia",
          "Germany",
          "Canada",
          "United Kingdom",
          "Japan",
          "South Korea",
          "United States",
          "France",
          "European Union",
          "Italy",
          "Saudi Arabia",
          "Argentina",
          "Turkey",
          "Russia",
          "China",
          "Mexico",
          "Brazil",
          "South Africa",
          "Indonesia",
          "India",
          "African Union"
         ],
         "xaxis": "x",
         "y": [
          63487,
          52824,
          53247,
          48913,
          33950,
          33147,
          80412,
          46315,
          41114,
          37146,
          32586,
          13297,
          13384,
          13006,
          12541,
          13804,
          10413,
          6191,
          5109,
          2612,
          2044
         ],
         "yaxis": "y"
        }
       ],
       "layout": {
        "barmode": "relative",
        "coloraxis": {
         "colorbar": {
          "title": {
           "text": "IDH"
          }
         },
         "colorscale": [
          [
           0,
           "#0d0887"
          ],
          [
           0.1111111111111111,
           "#46039f"
          ],
          [
           0.2222222222222222,
           "#7201a8"
          ],
          [
           0.3333333333333333,
           "#9c179e"
          ],
          [
           0.4444444444444444,
           "#bd3786"
          ],
          [
           0.5555555555555556,
           "#d8576b"
          ],
          [
           0.6666666666666666,
           "#ed7953"
          ],
          [
           0.7777777777777778,
           "#fb9f3a"
          ],
          [
           0.8888888888888888,
           "#fdca26"
          ],
          [
           1,
           "#f0f921"
          ]
         ]
        },
        "height": 600,
        "legend": {
         "tracegroupgap": 0
        },
        "template": {
         "data": {
          "bar": [
           {
            "error_x": {
             "color": "#2a3f5f"
            },
            "error_y": {
             "color": "#2a3f5f"
            },
            "marker": {
             "line": {
              "color": "#E5ECF6",
              "width": 0.5
             },
             "pattern": {
              "fillmode": "overlay",
              "size": 10,
              "solidity": 0.2
             }
            },
            "type": "bar"
           }
          ],
          "barpolar": [
           {
            "marker": {
             "line": {
              "color": "#E5ECF6",
              "width": 0.5
             },
             "pattern": {
              "fillmode": "overlay",
              "size": 10,
              "solidity": 0.2
             }
            },
            "type": "barpolar"
           }
          ],
          "carpet": [
           {
            "aaxis": {
             "endlinecolor": "#2a3f5f",
             "gridcolor": "white",
             "linecolor": "white",
             "minorgridcolor": "white",
             "startlinecolor": "#2a3f5f"
            },
            "baxis": {
             "endlinecolor": "#2a3f5f",
             "gridcolor": "white",
             "linecolor": "white",
             "minorgridcolor": "white",
             "startlinecolor": "#2a3f5f"
            },
            "type": "carpet"
           }
          ],
          "choropleth": [
           {
            "colorbar": {
             "outlinewidth": 0,
             "ticks": ""
            },
            "type": "choropleth"
           }
          ],
          "contour": [
           {
            "colorbar": {
             "outlinewidth": 0,
             "ticks": ""
            },
            "colorscale": [
             [
              0,
              "#0d0887"
             ],
             [
              0.1111111111111111,
              "#46039f"
             ],
             [
              0.2222222222222222,
              "#7201a8"
             ],
             [
              0.3333333333333333,
              "#9c179e"
             ],
             [
              0.4444444444444444,
              "#bd3786"
             ],
             [
              0.5555555555555556,
              "#d8576b"
             ],
             [
              0.6666666666666666,
              "#ed7953"
             ],
             [
              0.7777777777777778,
              "#fb9f3a"
             ],
             [
              0.8888888888888888,
              "#fdca26"
             ],
             [
              1,
              "#f0f921"
             ]
            ],
            "type": "contour"
           }
          ],
          "contourcarpet": [
           {
            "colorbar": {
             "outlinewidth": 0,
             "ticks": ""
            },
            "type": "contourcarpet"
           }
          ],
          "heatmap": [
           {
            "colorbar": {
             "outlinewidth": 0,
             "ticks": ""
            },
            "colorscale": [
             [
              0,
              "#0d0887"
             ],
             [
              0.1111111111111111,
              "#46039f"
             ],
             [
              0.2222222222222222,
              "#7201a8"
             ],
             [
              0.3333333333333333,
              "#9c179e"
             ],
             [
              0.4444444444444444,
              "#bd3786"
             ],
             [
              0.5555555555555556,
              "#d8576b"
             ],
             [
              0.6666666666666666,
              "#ed7953"
             ],
             [
              0.7777777777777778,
              "#fb9f3a"
             ],
             [
              0.8888888888888888,
              "#fdca26"
             ],
             [
              1,
              "#f0f921"
             ]
            ],
            "type": "heatmap"
           }
          ],
          "heatmapgl": [
           {
            "colorbar": {
             "outlinewidth": 0,
             "ticks": ""
            },
            "colorscale": [
             [
              0,
              "#0d0887"
             ],
             [
              0.1111111111111111,
              "#46039f"
             ],
             [
              0.2222222222222222,
              "#7201a8"
             ],
             [
              0.3333333333333333,
              "#9c179e"
             ],
             [
              0.4444444444444444,
              "#bd3786"
             ],
             [
              0.5555555555555556,
              "#d8576b"
             ],
             [
              0.6666666666666666,
              "#ed7953"
             ],
             [
              0.7777777777777778,
              "#fb9f3a"
             ],
             [
              0.8888888888888888,
              "#fdca26"
             ],
             [
              1,
              "#f0f921"
             ]
            ],
            "type": "heatmapgl"
           }
          ],
          "histogram": [
           {
            "marker": {
             "pattern": {
              "fillmode": "overlay",
              "size": 10,
              "solidity": 0.2
             }
            },
            "type": "histogram"
           }
          ],
          "histogram2d": [
           {
            "colorbar": {
             "outlinewidth": 0,
             "ticks": ""
            },
            "colorscale": [
             [
              0,
              "#0d0887"
             ],
             [
              0.1111111111111111,
              "#46039f"
             ],
             [
              0.2222222222222222,
              "#7201a8"
             ],
             [
              0.3333333333333333,
              "#9c179e"
             ],
             [
              0.4444444444444444,
              "#bd3786"
             ],
             [
              0.5555555555555556,
              "#d8576b"
             ],
             [
              0.6666666666666666,
              "#ed7953"
             ],
             [
              0.7777777777777778,
              "#fb9f3a"
             ],
             [
              0.8888888888888888,
              "#fdca26"
             ],
             [
              1,
              "#f0f921"
             ]
            ],
            "type": "histogram2d"
           }
          ],
          "histogram2dcontour": [
           {
            "colorbar": {
             "outlinewidth": 0,
             "ticks": ""
            },
            "colorscale": [
             [
              0,
              "#0d0887"
             ],
             [
              0.1111111111111111,
              "#46039f"
             ],
             [
              0.2222222222222222,
              "#7201a8"
             ],
             [
              0.3333333333333333,
              "#9c179e"
             ],
             [
              0.4444444444444444,
              "#bd3786"
             ],
             [
              0.5555555555555556,
              "#d8576b"
             ],
             [
              0.6666666666666666,
              "#ed7953"
             ],
             [
              0.7777777777777778,
              "#fb9f3a"
             ],
             [
              0.8888888888888888,
              "#fdca26"
             ],
             [
              1,
              "#f0f921"
             ]
            ],
            "type": "histogram2dcontour"
           }
          ],
          "mesh3d": [
           {
            "colorbar": {
             "outlinewidth": 0,
             "ticks": ""
            },
            "type": "mesh3d"
           }
          ],
          "parcoords": [
           {
            "line": {
             "colorbar": {
              "outlinewidth": 0,
              "ticks": ""
             }
            },
            "type": "parcoords"
           }
          ],
          "pie": [
           {
            "automargin": true,
            "type": "pie"
           }
          ],
          "scatter": [
           {
            "fillpattern": {
             "fillmode": "overlay",
             "size": 10,
             "solidity": 0.2
            },
            "type": "scatter"
           }
          ],
          "scatter3d": [
           {
            "line": {
             "colorbar": {
              "outlinewidth": 0,
              "ticks": ""
             }
            },
            "marker": {
             "colorbar": {
              "outlinewidth": 0,
              "ticks": ""
             }
            },
            "type": "scatter3d"
           }
          ],
          "scattercarpet": [
           {
            "marker": {
             "colorbar": {
              "outlinewidth": 0,
              "ticks": ""
             }
            },
            "type": "scattercarpet"
           }
          ],
          "scattergeo": [
           {
            "marker": {
             "colorbar": {
              "outlinewidth": 0,
              "ticks": ""
             }
            },
            "type": "scattergeo"
           }
          ],
          "scattergl": [
           {
            "marker": {
             "colorbar": {
              "outlinewidth": 0,
              "ticks": ""
             }
            },
            "type": "scattergl"
           }
          ],
          "scattermapbox": [
           {
            "marker": {
             "colorbar": {
              "outlinewidth": 0,
              "ticks": ""
             }
            },
            "type": "scattermapbox"
           }
          ],
          "scatterpolar": [
           {
            "marker": {
             "colorbar": {
              "outlinewidth": 0,
              "ticks": ""
             }
            },
            "type": "scatterpolar"
           }
          ],
          "scatterpolargl": [
           {
            "marker": {
             "colorbar": {
              "outlinewidth": 0,
              "ticks": ""
             }
            },
            "type": "scatterpolargl"
           }
          ],
          "scatterternary": [
           {
            "marker": {
             "colorbar": {
              "outlinewidth": 0,
              "ticks": ""
             }
            },
            "type": "scatterternary"
           }
          ],
          "surface": [
           {
            "colorbar": {
             "outlinewidth": 0,
             "ticks": ""
            },
            "colorscale": [
             [
              0,
              "#0d0887"
             ],
             [
              0.1111111111111111,
              "#46039f"
             ],
             [
              0.2222222222222222,
              "#7201a8"
             ],
             [
              0.3333333333333333,
              "#9c179e"
             ],
             [
              0.4444444444444444,
              "#bd3786"
             ],
             [
              0.5555555555555556,
              "#d8576b"
             ],
             [
              0.6666666666666666,
              "#ed7953"
             ],
             [
              0.7777777777777778,
              "#fb9f3a"
             ],
             [
              0.8888888888888888,
              "#fdca26"
             ],
             [
              1,
              "#f0f921"
             ]
            ],
            "type": "surface"
           }
          ],
          "table": [
           {
            "cells": {
             "fill": {
              "color": "#EBF0F8"
             },
             "line": {
              "color": "white"
             }
            },
            "header": {
             "fill": {
              "color": "#C8D4E3"
             },
             "line": {
              "color": "white"
             }
            },
            "type": "table"
           }
          ]
         },
         "layout": {
          "annotationdefaults": {
           "arrowcolor": "#2a3f5f",
           "arrowhead": 0,
           "arrowwidth": 1
          },
          "autotypenumbers": "strict",
          "coloraxis": {
           "colorbar": {
            "outlinewidth": 0,
            "ticks": ""
           }
          },
          "colorscale": {
           "diverging": [
            [
             0,
             "#8e0152"
            ],
            [
             0.1,
             "#c51b7d"
            ],
            [
             0.2,
             "#de77ae"
            ],
            [
             0.3,
             "#f1b6da"
            ],
            [
             0.4,
             "#fde0ef"
            ],
            [
             0.5,
             "#f7f7f7"
            ],
            [
             0.6,
             "#e6f5d0"
            ],
            [
             0.7,
             "#b8e186"
            ],
            [
             0.8,
             "#7fbc41"
            ],
            [
             0.9,
             "#4d9221"
            ],
            [
             1,
             "#276419"
            ]
           ],
           "sequential": [
            [
             0,
             "#0d0887"
            ],
            [
             0.1111111111111111,
             "#46039f"
            ],
            [
             0.2222222222222222,
             "#7201a8"
            ],
            [
             0.3333333333333333,
             "#9c179e"
            ],
            [
             0.4444444444444444,
             "#bd3786"
            ],
            [
             0.5555555555555556,
             "#d8576b"
            ],
            [
             0.6666666666666666,
             "#ed7953"
            ],
            [
             0.7777777777777778,
             "#fb9f3a"
            ],
            [
             0.8888888888888888,
             "#fdca26"
            ],
            [
             1,
             "#f0f921"
            ]
           ],
           "sequentialminus": [
            [
             0,
             "#0d0887"
            ],
            [
             0.1111111111111111,
             "#46039f"
            ],
            [
             0.2222222222222222,
             "#7201a8"
            ],
            [
             0.3333333333333333,
             "#9c179e"
            ],
            [
             0.4444444444444444,
             "#bd3786"
            ],
            [
             0.5555555555555556,
             "#d8576b"
            ],
            [
             0.6666666666666666,
             "#ed7953"
            ],
            [
             0.7777777777777778,
             "#fb9f3a"
            ],
            [
             0.8888888888888888,
             "#fdca26"
            ],
            [
             1,
             "#f0f921"
            ]
           ]
          },
          "colorway": [
           "#636efa",
           "#EF553B",
           "#00cc96",
           "#ab63fa",
           "#FFA15A",
           "#19d3f3",
           "#FF6692",
           "#B6E880",
           "#FF97FF",
           "#FECB52"
          ],
          "font": {
           "color": "#2a3f5f"
          },
          "geo": {
           "bgcolor": "white",
           "lakecolor": "white",
           "landcolor": "#E5ECF6",
           "showlakes": true,
           "showland": true,
           "subunitcolor": "white"
          },
          "hoverlabel": {
           "align": "left"
          },
          "hovermode": "closest",
          "mapbox": {
           "style": "light"
          },
          "paper_bgcolor": "white",
          "plot_bgcolor": "#E5ECF6",
          "polar": {
           "angularaxis": {
            "gridcolor": "white",
            "linecolor": "white",
            "ticks": ""
           },
           "bgcolor": "#E5ECF6",
           "radialaxis": {
            "gridcolor": "white",
            "linecolor": "white",
            "ticks": ""
           }
          },
          "scene": {
           "xaxis": {
            "backgroundcolor": "#E5ECF6",
            "gridcolor": "white",
            "gridwidth": 2,
            "linecolor": "white",
            "showbackground": true,
            "ticks": "",
            "zerolinecolor": "white"
           },
           "yaxis": {
            "backgroundcolor": "#E5ECF6",
            "gridcolor": "white",
            "gridwidth": 2,
            "linecolor": "white",
            "showbackground": true,
            "ticks": "",
            "zerolinecolor": "white"
           },
           "zaxis": {
            "backgroundcolor": "#E5ECF6",
            "gridcolor": "white",
            "gridwidth": 2,
            "linecolor": "white",
            "showbackground": true,
            "ticks": "",
            "zerolinecolor": "white"
           }
          },
          "shapedefaults": {
           "line": {
            "color": "#2a3f5f"
           }
          },
          "ternary": {
           "aaxis": {
            "gridcolor": "white",
            "linecolor": "white",
            "ticks": ""
           },
           "baxis": {
            "gridcolor": "white",
            "linecolor": "white",
            "ticks": ""
           },
           "bgcolor": "#E5ECF6",
           "caxis": {
            "gridcolor": "white",
            "linecolor": "white",
            "ticks": ""
           }
          },
          "title": {
           "x": 0.05
          },
          "xaxis": {
           "automargin": true,
           "gridcolor": "white",
           "linecolor": "white",
           "ticks": "",
           "title": {
            "standoff": 15
           },
           "zerolinecolor": "white",
           "zerolinewidth": 2
          },
          "yaxis": {
           "automargin": true,
           "gridcolor": "white",
           "linecolor": "white",
           "ticks": "",
           "title": {
            "standoff": 15
           },
           "zerolinecolor": "white",
           "zerolinewidth": 2
          }
         }
        },
        "title": {
         "text": "IDH-G4"
        },
        "width": 1000,
        "xaxis": {
         "anchor": "y",
         "domain": [
          0,
          1
         ],
         "title": {
          "text": "País"
         }
        },
        "yaxis": {
         "anchor": "x",
         "domain": [
          0,
          1
         ],
         "title": {
          "text": "PIB_percapta"
         }
        }
       }
      }
     },
     "metadata": {},
     "output_type": "display_data"
    }
   ],
   "source": [
    "g4 = clean_df[['País', 'IDH', 'PIB_percapta','G4']].sort_values('IDH', ascending=False)\n",
    "\n",
    "g4\n",
    "\n",
    "chart = plx.bar(g4,x='País',y='PIB_percapta',width=1000,height=600,title='IDH-G4',labels={'PIB_percapta':'PIB_percapta'},color='IDH',hover_name='G4')\n",
    "chart.show()"
   ]
  },
  {
   "cell_type": "code",
   "execution_count": null,
   "metadata": {},
   "outputs": [],
   "source": []
  }
 ],
 "metadata": {
  "kernelspec": {
   "display_name": "base",
   "language": "python",
   "name": "python3"
  },
  "language_info": {
   "codemirror_mode": {
    "name": "ipython",
    "version": 3
   },
   "file_extension": ".py",
   "mimetype": "text/x-python",
   "name": "python",
   "nbconvert_exporter": "python",
   "pygments_lexer": "ipython3",
   "version": "3.11.5"
  }
 },
 "nbformat": 4,
 "nbformat_minor": 2
}
